{
 "cells": [
  {
   "cell_type": "code",
   "execution_count": null,
   "id": "acef56fd",
   "metadata": {},
   "outputs": [],
   "source": [
    "# Imports\n",
    "import numpy as np\n",
    "import matplotlib.pyplot as plt\n",
    "\n",
    "from sklearn.linear_model import LogisticRegression\n",
    "from sklearn.model_selection import cross_val_score"
   ]
  },
  {
   "cell_type": "code",
   "execution_count": null,
   "id": "97e654ee",
   "metadata": {},
   "outputs": [],
   "source": [
    "def sigmoid(z):\n",
    "  \"\"\"Return the logistic transform of z.\"\"\"\n",
    "\n",
    "  sigmoid =  1 / (1 + np.exp(-z))\n",
    "\n",
    "  return sigmoid"
   ]
  },
  {
   "cell_type": "code",
   "execution_count": null,
   "id": "4afd6872",
   "metadata": {},
   "outputs": [],
   "source": [
    "y = \n",
    "X = \n",
    "\n",
    "# Define the model\n",
    "log_reg = LogisticRegression(penalty=None)\n",
    "\n",
    "# Fit it to data\n",
    "log_reg.fit(X, y)\n",
    "\n",
    "y_pred = log_reg.predict(X)\n",
    "print(y_pred)"
   ]
  },
  {
   "cell_type": "code",
   "execution_count": null,
   "id": "6d5834c8",
   "metadata": {},
   "outputs": [],
   "source": [
    "def compute_accuracy(X, y, model):\n",
    "  \"\"\"Compute accuracy of classifier predictions.\n",
    "\n",
    "  Args:\n",
    "    X (2D array): Data matrix\n",
    "    y (1D array): Label vector\n",
    "    model (sklearn estimator): Classifier with trained weights.\n",
    "\n",
    "  Returns:\n",
    "    accuracy (float): Proportion of correct predictions.\n",
    "  \"\"\"\n",
    "\n",
    "  y_pred = model.predict(X)\n",
    "\n",
    "  accuracy = (y == y_pred).sum() / len(y)\n",
    "\n",
    "  return accuracy\n",
    "\n",
    "\n",
    "# Compute train accuracy\n",
    "train_accuracy = compute_accuracy(X, y, log_reg)\n",
    "print(f\"Accuracy on the training data: {train_accuracy:.2%}\")"
   ]
  }
 ],
 "metadata": {
  "language_info": {
   "name": "python"
  }
 },
 "nbformat": 4,
 "nbformat_minor": 5
}
