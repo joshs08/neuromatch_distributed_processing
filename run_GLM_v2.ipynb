{
 "cells": [
  {
   "cell_type": "code",
   "execution_count": 1,
   "id": "671b6c51",
   "metadata": {},
   "outputs": [],
   "source": [
    "from sklearn.linear_model import LogisticRegression\n",
    "from sklearn.model_selection import cross_val_score\n",
    "from pathlib import Path\n",
    "import json\n",
    "import requests\n",
    "import os\n",
    "import numpy as np\n",
    "import matplotlib.pyplot as plt\n",
    "from rastermap import Rastermap, utils\n",
    "from tqdm import tqdm\n",
    "from scipy.stats import zscore\n",
    "\n",
    "root = \"C://Users//Josh Selfe//OneDrive - Nexus365//Other Documents//Neuromatch\"\n",
    "\n",
    "def compute_mean_before_cue(trials, rew_positions, pre):\n",
    "    \"\"\"\n",
    "    Aligns each trial around its reward cue position, then computes\n",
    "    the mean and SEM across trials for each relative bin.\n",
    "    \"\"\"\n",
    "    n_neurons, n_trials, n_bins = trials.shape\n",
    "    pre_act = np.zeros((n_trials,n_neurons))\n",
    "    window_size = pre \n",
    "\n",
    "    for t in range(n_trials):\n",
    "        pos = int(rew_positions[t])\n",
    "        start = max(pos - pre, 0)\n",
    "        end   = min(pos, n_bins)\n",
    "\n",
    "        pre_act[t,:] = trials[:, t, start:end].mean(axis=1)\n",
    "\n",
    "        # Pad with NaN if at edges\n",
    "        if pre_act[t,:].size < window_size:\n",
    "            pad_left  = pre - (pos - start)\n",
    "            pad_right = (end - pos - 1)\n",
    "            pre_act[t,:] = np.pad(pre_act[t,:], (pad_left, pad_right), constant_values=np.nan)\n",
    "\n",
    "    # aligned = np.stack(aligned, axis=0)  # shape (n_trials, window_size)\n",
    "    # mean = np.nanmean(aligned, axis=0)\n",
    "    # sem  = np.nanstd(aligned, axis=0) / np.sqrt(np.sum(~np.isnan(aligned), axis=0))\n",
    "    return pre_act\n"
   ]
  },
  {
   "cell_type": "code",
   "execution_count": null,
   "id": "3af489d5",
   "metadata": {},
   "outputs": [],
   "source": [
    "sel_spk = np.load(os.path.join(root, \"vars\", \"sel_spk.npy\"))"
   ]
  },
  {
   "cell_type": "code",
   "execution_count": null,
   "id": "6055e9d6",
   "metadata": {},
   "outputs": [],
   "source": [
    "Beh_test_1 = np.load(os.path.join(root, 'Beh_sup_test1.npy'), allow_pickle=1).item()\n",
    "beh = Beh_test_1 ['VR2_2021_04_11_1']\n",
    "sel_spk_zs = zscore(sel_spk, axis=1) \n",
    "\n",
    "ntrials = beh['ntrials'] # number of trials\n",
    "WallName = beh['WallName'] # name of wall for each frame\n",
    "cum_pos_fr = beh['ft_PosCum'] # cumulative position in decimeters for each frame\n",
    "\n",
    "RewPos = beh['RewPos'] # position of reward in corridor\n",
    "SoundPos = beh['SoundPos'] # position of sound cue in corridor \n",
    "\n",
    "leaf1_mask = WallName == 'leaf1'\n",
    "leaf2_mask = WallName == 'leaf2'\n",
    "circle1_mask = WallName == 'circle1'\n",
    "circle2_mask = WallName == 'circle2'\n",
    "\n",
    "# Extract trials along axis=1 (trial axis)\n",
    "leaf1_trials = sel_spk_zs[:, leaf1_mask, :]\n",
    "leaf2_trials = sel_spk_zs[:, leaf2_mask, :]\n",
    "circle1_trials = sel_spk_zs[:, circle1_mask, :]\n",
    "circle2_trials = sel_spk_zs[:, circle2_mask, :]\n",
    "\n",
    "SoundPosLeaf1 = SoundPos[leaf1_mask]  # sound position for leaf1 trials\n",
    "SoundPosLeaf2 = SoundPos[leaf2_mask]  # sound position for leaf2\n",
    "SoundPosCircle1 = SoundPos[circle1_mask]  # sound position for leaf1 trials\n",
    "SoundPosCircle2 = SoundPos[circle2_mask]  # sound position for leaf2"
   ]
  },
  {
   "cell_type": "code",
   "execution_count": 16,
   "id": "089d6063",
   "metadata": {},
   "outputs": [
    {
     "data": {
      "image/png": "[encoded data removed]",
      "text/plain": [
       "<Figure size 800x300 with 1 Axes>"
      ]
     },
     "metadata": {},
     "output_type": "display_data"
    }
   ],
   "source": [
    "pre_bins = 3   # bins before cue\n",
    "\n",
    "pre_act_leaf1 = compute_mean_before_cue(leaf1_trials[:,:,:], SoundPosLeaf1, pre_bins)\n",
    "pre_act_leaf2 = compute_mean_before_cue(leaf2_trials[:,:,:], SoundPosLeaf2, pre_bins)\n",
    "pre_act_circle1 = compute_mean_before_cue(circle1_trials[:,:,:], SoundPosCircle1, pre_bins)\n",
    "pre_act_circle2 = compute_mean_before_cue(circle2_trials[:,:,:], SoundPosCircle2, pre_bins)\n",
    "\n",
    "data = np.concatenate([pre_act_leaf1,pre_act_leaf2,pre_act_circle1,pre_act_circle2])\n",
    "y = np.zeros(np.size(data,0))\n",
    "y[:len(pre_act_leaf1)]=1\n",
    "folds = 50\n",
    "\n",
    "idx_shuffle = np.random.permutation(np.arange(np.size(data,0)))\n",
    "datanew = data[idx_shuffle,:]\n",
    "ynew = y[idx_shuffle]\n",
    "\n",
    "accuracies = cross_val_score(LogisticRegression(penalty=None), data, y, cv=folds)  # k=8 cross validation\n",
    "#accuracies = cross_val_score(LogisticRegression(penalty=None), datanew, ynew, cv=folds)  # k-fold cross validation\n",
    "\n",
    "f, ax = plt.subplots(figsize=(8, 3))\n",
    "ax.boxplot(accuracies, vert=False, widths=.7)\n",
    "ax.scatter(accuracies, np.ones(folds))\n",
    "ax.set(\n",
    "  xlabel=\"Accuracy\",\n",
    "  yticks=[],\n",
    "  title=f\"Average test accuracy: {accuracies.mean():.2%}\"\n",
    ")\n",
    "ax.spines[\"left\"].set_visible(False)\n",
    "plt.show()"
   ]
  },
  {
   "cell_type": "code",
   "execution_count": null,
   "id": "2935941d",
   "metadata": {},
   "outputs": [],
   "source": []
  }
 ],
 "metadata": {
  "kernelspec": {
   "display_name": "Python 3",
   "language": "python",
   "name": "python3"
  },
  "language_info": {
   "codemirror_mode": {
    "name": "ipython",
    "version": 3
   },
   "file_extension": ".py",
   "mimetype": "text/x-python",
   "name": "python",
   "nbconvert_exporter": "python",
   "pygments_lexer": "ipython3",
   "version": "3.11.13"
  }
 },
 "nbformat": 4,
 "nbformat_minor": 5
}
